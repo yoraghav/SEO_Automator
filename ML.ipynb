{
 "cells": [
  {
   "cell_type": "code",
   "execution_count": 1,
   "id": "be7a0efe",
   "metadata": {},
   "outputs": [],
   "source": [
    "import requests\n",
    "import cv2\n",
    "import numpy as np"
   ]
  },
  {
   "cell_type": "code",
   "execution_count": 23,
   "id": "de898317",
   "metadata": {},
   "outputs": [],
   "source": [
    "def slicer(img):\n",
    "    img = np.array(img)\n",
    "    crops = np.zeros((6,10,8,3))\n",
    "\n",
    "    crops[0] = img[9:19,17:25]\n",
    "    crops[1] = img[9:19,35:43]\n",
    "    crops[2] = img[9:19,53:61]\n",
    "    crops[3] = img[9:19,71:79]\n",
    "    crops[4] = img[9:19,89:97]\n",
    "    crops[5] = img[9:19,107:115]\n",
    "    \n",
    "    return crops\n",
    "\n",
    "def converter(img):\n",
    "    key = np.zeros((10,8))\n",
    "\n",
    "    for i in range(10):\n",
    "        for j in range(8):\n",
    "            if(img[i][j][0] == 0):\n",
    "                key[i][j]=1\n",
    "    return key\n",
    "\n",
    "x=[]\n",
    "y=[]\n",
    "\n",
    "for kk in range(100):\n",
    "    response = requests.get(\"https://nextfreeads.com/captcha.image.php?504\")\n",
    "    file = open(\"1.png\", \"wb\")\n",
    "    file.write(response.content)\n",
    "    file.close()\n",
    "    img = cv2.imread(\"1.png\")\n",
    "    st = ['1','2','3','4','5','6','7','8','9','A','B','C','E','F','X']\n",
    "    b = slicer(img)\n",
    "#     ans = \"\"\n",
    "    for i in range(6):\n",
    "        mat = converter(b[i])\n",
    "        x.append(mat)\n",
    "        for j in range(len(st)):\n",
    "            ur = \"matrices/\"+st[j]+\".npy\"\n",
    "            if((np.load(ur) == mat).all()):\n",
    "                y.append(j)\n",
    "#                 ans = ans + st[j]\n",
    "    "
   ]
  },
  {
   "cell_type": "code",
   "execution_count": 24,
   "id": "962f5f1d",
   "metadata": {},
   "outputs": [],
   "source": [
    "import tensorflow as tf"
   ]
  },
  {
   "cell_type": "code",
   "execution_count": 42,
   "id": "6a826d8c",
   "metadata": {
    "scrolled": false
   },
   "outputs": [
    {
     "name": "stdout",
     "output_type": "stream",
     "text": [
      "Model: \"sequential_9\"\n",
      "_________________________________________________________________\n",
      "Layer (type)                 Output Shape              Param #   \n",
      "=================================================================\n",
      "flatten_10 (Flatten)         (None, 80)                0         \n",
      "_________________________________________________________________\n",
      "dense_27 (Dense)             (None, 32)                2592      \n",
      "_________________________________________________________________\n",
      "dense_28 (Dense)             (None, 32)                1056      \n",
      "_________________________________________________________________\n",
      "dense_29 (Dense)             (None, 15)                495       \n",
      "=================================================================\n",
      "Total params: 4,143\n",
      "Trainable params: 4,143\n",
      "Non-trainable params: 0\n",
      "_________________________________________________________________\n"
     ]
    }
   ],
   "source": [
    "model = tf.keras.models.Sequential()\n",
    " \n",
    "model.add(tf.keras.layers.Flatten(input_shape=(10,8)))\n",
    "#reshape\n",
    " \n",
    "model.add(tf.keras.layers.Dense(32,activation=tf.nn.relu))\n",
    "model.add(tf.keras.layers.Dense(32,activation=tf.nn.relu))\n",
    "model.add(tf.keras.layers.Dense(15,activation=tf.nn.softmax))\n",
    " \n",
    "model.compile(optimizer='adam',\n",
    "              loss='sparse_categorical_crossentropy',\n",
    "              metrics=['accuracy']\n",
    "              )\n",
    "\n",
    "model.summary()"
   ]
  },
  {
   "cell_type": "code",
   "execution_count": 47,
   "id": "a975c437",
   "metadata": {},
   "outputs": [
    {
     "data": {
      "text/plain": [
       "(600, 10, 8)"
      ]
     },
     "execution_count": 47,
     "metadata": {},
     "output_type": "execute_result"
    }
   ],
   "source": [
    "x = np.array(x)"
   ]
  },
  {
   "cell_type": "code",
   "execution_count": 59,
   "id": "67f1fbb5",
   "metadata": {},
   "outputs": [
    {
     "name": "stdout",
     "output_type": "stream",
     "text": [
      "Train on 600 samples\n",
      "Epoch 1/100\n",
      "600/600 [==============================] - 0s 146us/sample - loss: 0.1085 - accuracy: 1.0000\n",
      "Epoch 2/100\n",
      "600/600 [==============================] - 0s 90us/sample - loss: 0.0766 - accuracy: 1.0000\n",
      "Epoch 3/100\n",
      "600/600 [==============================] - 0s 80us/sample - loss: 0.0561 - accuracy: 1.0000\n",
      "Epoch 4/100\n",
      "600/600 [==============================] - 0s 70us/sample - loss: 0.0431 - accuracy: 1.0000\n",
      "Epoch 5/100\n",
      "600/600 [==============================] - 0s 73us/sample - loss: 0.0347 - accuracy: 1.0000\n",
      "Epoch 6/100\n",
      "600/600 [==============================] - 0s 72us/sample - loss: 0.0276 - accuracy: 1.0000\n",
      "Epoch 7/100\n",
      "600/600 [==============================] - 0s 74us/sample - loss: 0.0228 - accuracy: 1.0000\n",
      "Epoch 8/100\n",
      "600/600 [==============================] - 0s 79us/sample - loss: 0.0192 - accuracy: 1.0000\n",
      "Epoch 9/100\n",
      "600/600 [==============================] - 0s 79us/sample - loss: 0.0164 - accuracy: 1.0000\n",
      "Epoch 10/100\n",
      "600/600 [==============================] - 0s 78us/sample - loss: 0.0142 - accuracy: 1.0000\n",
      "Epoch 11/100\n",
      "600/600 [==============================] - 0s 76us/sample - loss: 0.0125 - accuracy: 1.0000\n",
      "Epoch 12/100\n",
      "600/600 [==============================] - 0s 79us/sample - loss: 0.0110 - accuracy: 1.0000\n",
      "Epoch 13/100\n",
      "600/600 [==============================] - 0s 80us/sample - loss: 0.0098 - accuracy: 1.0000\n",
      "Epoch 14/100\n",
      "600/600 [==============================] - 0s 78us/sample - loss: 0.0088 - accuracy: 1.0000\n",
      "Epoch 15/100\n",
      "600/600 [==============================] - 0s 85us/sample - loss: 0.0080 - accuracy: 1.0000\n",
      "Epoch 16/100\n",
      "600/600 [==============================] - 0s 111us/sample - loss: 0.0073 - accuracy: 1.0000\n",
      "Epoch 17/100\n",
      "600/600 [==============================] - 0s 77us/sample - loss: 0.0066 - accuracy: 1.0000\n",
      "Epoch 18/100\n",
      "600/600 [==============================] - 0s 76us/sample - loss: 0.0060 - accuracy: 1.0000\n",
      "Epoch 19/100\n",
      "600/600 [==============================] - 0s 73us/sample - loss: 0.0056 - accuracy: 1.0000\n",
      "Epoch 20/100\n",
      "600/600 [==============================] - 0s 74us/sample - loss: 0.0051 - accuracy: 1.0000\n",
      "Epoch 21/100\n",
      "600/600 [==============================] - 0s 76us/sample - loss: 0.0048 - accuracy: 1.0000\n",
      "Epoch 22/100\n",
      "600/600 [==============================] - 0s 98us/sample - loss: 0.0044 - accuracy: 1.0000\n",
      "Epoch 23/100\n",
      "600/600 [==============================] - 0s 111us/sample - loss: 0.0041 - accuracy: 1.0000\n",
      "Epoch 24/100\n",
      "600/600 [==============================] - 0s 81us/sample - loss: 0.0039 - accuracy: 1.0000\n",
      "Epoch 25/100\n",
      "600/600 [==============================] - 0s 79us/sample - loss: 0.0036 - accuracy: 1.0000\n",
      "Epoch 26/100\n",
      "600/600 [==============================] - 0s 77us/sample - loss: 0.0034 - accuracy: 1.0000\n",
      "Epoch 27/100\n",
      "600/600 [==============================] - 0s 79us/sample - loss: 0.0032 - accuracy: 1.0000\n",
      "Epoch 28/100\n",
      "600/600 [==============================] - 0s 86us/sample - loss: 0.0030 - accuracy: 1.0000\n",
      "Epoch 29/100\n",
      "600/600 [==============================] - 0s 76us/sample - loss: 0.0028 - accuracy: 1.0000\n",
      "Epoch 30/100\n",
      "600/600 [==============================] - 0s 76us/sample - loss: 0.0026 - accuracy: 1.0000\n",
      "Epoch 31/100\n",
      "600/600 [==============================] - 0s 94us/sample - loss: 0.0025 - accuracy: 1.0000\n",
      "Epoch 32/100\n",
      "600/600 [==============================] - 0s 108us/sample - loss: 0.0024 - accuracy: 1.0000\n",
      "Epoch 33/100\n",
      "600/600 [==============================] - 0s 89us/sample - loss: 0.0023 - accuracy: 1.0000\n",
      "Epoch 34/100\n",
      "600/600 [==============================] - 0s 77us/sample - loss: 0.0021 - accuracy: 1.0000\n",
      "Epoch 35/100\n",
      "600/600 [==============================] - 0s 78us/sample - loss: 0.0020 - accuracy: 1.0000\n",
      "Epoch 36/100\n",
      "600/600 [==============================] - 0s 91us/sample - loss: 0.0019 - accuracy: 1.0000\n",
      "Epoch 37/100\n",
      "600/600 [==============================] - 0s 77us/sample - loss: 0.0018 - accuracy: 1.0000\n",
      "Epoch 38/100\n",
      "600/600 [==============================] - 0s 79us/sample - loss: 0.0018 - accuracy: 1.0000\n",
      "Epoch 39/100\n",
      "600/600 [==============================] - 0s 75us/sample - loss: 0.0017 - accuracy: 1.0000\n",
      "Epoch 40/100\n",
      "600/600 [==============================] - 0s 75us/sample - loss: 0.0016 - accuracy: 1.0000\n",
      "Epoch 41/100\n",
      "600/600 [==============================] - 0s 74us/sample - loss: 0.0015 - accuracy: 1.0000\n",
      "Epoch 42/100\n",
      "600/600 [==============================] - 0s 97us/sample - loss: 0.0015 - accuracy: 1.0000\n",
      "Epoch 43/100\n",
      "600/600 [==============================] - 0s 77us/sample - loss: 0.0014 - accuracy: 1.0000\n",
      "Epoch 44/100\n",
      "600/600 [==============================] - 0s 74us/sample - loss: 0.0014 - accuracy: 1.0000\n",
      "Epoch 45/100\n",
      "600/600 [==============================] - 0s 78us/sample - loss: 0.0013 - accuracy: 1.0000\n",
      "Epoch 46/100\n",
      "600/600 [==============================] - 0s 76us/sample - loss: 0.0013 - accuracy: 1.0000\n",
      "Epoch 47/100\n",
      "600/600 [==============================] - 0s 80us/sample - loss: 0.0012 - accuracy: 1.0000\n",
      "Epoch 48/100\n",
      "600/600 [==============================] - 0s 83us/sample - loss: 0.0012 - accuracy: 1.0000\n",
      "Epoch 49/100\n",
      "600/600 [==============================] - 0s 82us/sample - loss: 0.0011 - accuracy: 1.0000\n",
      "Epoch 50/100\n",
      "600/600 [==============================] - 0s 82us/sample - loss: 0.0011 - accuracy: 1.0000\n",
      "Epoch 51/100\n",
      "600/600 [==============================] - 0s 103us/sample - loss: 0.0010 - accuracy: 1.0000\n",
      "Epoch 52/100\n",
      "600/600 [==============================] - 0s 104us/sample - loss: 9.9798e-04 - accuracy: 1.0000\n",
      "Epoch 53/100\n",
      "600/600 [==============================] - 0s 87us/sample - loss: 9.6315e-04 - accuracy: 1.0000\n",
      "Epoch 54/100\n",
      "600/600 [==============================] - 0s 83us/sample - loss: 9.2960e-04 - accuracy: 1.0000\n",
      "Epoch 55/100\n",
      "600/600 [==============================] - 0s 78us/sample - loss: 8.9787e-04 - accuracy: 1.0000\n",
      "Epoch 56/100\n",
      "600/600 [==============================] - 0s 81us/sample - loss: 8.6722e-04 - accuracy: 1.0000\n",
      "Epoch 57/100\n",
      "600/600 [==============================] - 0s 84us/sample - loss: 8.3853e-04 - accuracy: 1.0000\n",
      "Epoch 58/100\n",
      "600/600 [==============================] - 0s 83us/sample - loss: 8.1122e-04 - accuracy: 1.0000\n",
      "Epoch 59/100\n",
      "600/600 [==============================] - 0s 84us/sample - loss: 7.8557e-04 - accuracy: 1.0000\n",
      "Epoch 60/100\n",
      "600/600 [==============================] - 0s 77us/sample - loss: 7.6045e-04 - accuracy: 1.0000\n",
      "Epoch 61/100\n",
      "600/600 [==============================] - 0s 75us/sample - loss: 7.3661e-04 - accuracy: 1.0000\n",
      "Epoch 62/100\n",
      "600/600 [==============================] - 0s 73us/sample - loss: 7.1369e-04 - accuracy: 1.0000\n",
      "Epoch 63/100\n",
      "600/600 [==============================] - 0s 72us/sample - loss: 6.9204e-04 - accuracy: 1.0000\n",
      "Epoch 64/100\n",
      "600/600 [==============================] - 0s 77us/sample - loss: 6.6812e-04 - accuracy: 1.0000\n",
      "Epoch 65/100\n",
      "600/600 [==============================] - 0s 73us/sample - loss: 6.3949e-04 - accuracy: 1.0000\n",
      "Epoch 66/100\n",
      "600/600 [==============================] - 0s 74us/sample - loss: 6.1867e-04 - accuracy: 1.0000\n",
      "Epoch 67/100\n",
      "600/600 [==============================] - 0s 75us/sample - loss: 5.9824e-04 - accuracy: 1.0000\n",
      "Epoch 68/100\n",
      "600/600 [==============================] - 0s 76us/sample - loss: 5.7841e-04 - accuracy: 1.0000\n",
      "Epoch 69/100\n",
      "600/600 [==============================] - 0s 74us/sample - loss: 5.5993e-04 - accuracy: 1.0000\n",
      "Epoch 70/100\n",
      "600/600 [==============================] - 0s 76us/sample - loss: 5.4248e-04 - accuracy: 1.0000\n",
      "Epoch 71/100\n",
      "600/600 [==============================] - 0s 74us/sample - loss: 5.2664e-04 - accuracy: 1.0000\n",
      "Epoch 72/100\n",
      "600/600 [==============================] - 0s 80us/sample - loss: 5.1061e-04 - accuracy: 1.0000\n",
      "Epoch 73/100\n",
      "600/600 [==============================] - 0s 77us/sample - loss: 4.9548e-04 - accuracy: 1.0000\n",
      "Epoch 74/100\n",
      "600/600 [==============================] - 0s 75us/sample - loss: 4.8109e-04 - accuracy: 1.0000\n",
      "Epoch 75/100\n",
      "600/600 [==============================] - 0s 75us/sample - loss: 4.6745e-04 - accuracy: 1.0000\n",
      "Epoch 76/100\n",
      "600/600 [==============================] - 0s 78us/sample - loss: 4.5428e-04 - accuracy: 1.0000\n",
      "Epoch 77/100\n"
     ]
    },
    {
     "name": "stdout",
     "output_type": "stream",
     "text": [
      "600/600 [==============================] - 0s 75us/sample - loss: 4.4165e-04 - accuracy: 1.0000\n",
      "Epoch 78/100\n",
      "600/600 [==============================] - 0s 75us/sample - loss: 4.2949e-04 - accuracy: 1.0000\n",
      "Epoch 79/100\n",
      "600/600 [==============================] - 0s 71us/sample - loss: 4.1806e-04 - accuracy: 1.0000\n",
      "Epoch 80/100\n",
      "600/600 [==============================] - 0s 70us/sample - loss: 4.0694e-04 - accuracy: 1.0000\n",
      "Epoch 81/100\n",
      "600/600 [==============================] - 0s 70us/sample - loss: 3.9624e-04 - accuracy: 1.0000\n",
      "Epoch 82/100\n",
      "600/600 [==============================] - 0s 75us/sample - loss: 3.8565e-04 - accuracy: 1.0000\n",
      "Epoch 83/100\n",
      "600/600 [==============================] - 0s 86us/sample - loss: 3.7589e-04 - accuracy: 1.0000\n",
      "Epoch 84/100\n",
      "600/600 [==============================] - 0s 80us/sample - loss: 3.6608e-04 - accuracy: 1.0000\n",
      "Epoch 85/100\n",
      "600/600 [==============================] - 0s 81us/sample - loss: 3.5678e-04 - accuracy: 1.0000\n",
      "Epoch 86/100\n",
      "600/600 [==============================] - 0s 78us/sample - loss: 3.4786e-04 - accuracy: 1.0000\n",
      "Epoch 87/100\n",
      "600/600 [==============================] - 0s 76us/sample - loss: 3.3916e-04 - accuracy: 1.0000\n",
      "Epoch 88/100\n",
      "600/600 [==============================] - 0s 79us/sample - loss: 3.3090e-04 - accuracy: 1.0000\n",
      "Epoch 89/100\n",
      "600/600 [==============================] - 0s 76us/sample - loss: 3.2295e-04 - accuracy: 1.0000\n",
      "Epoch 90/100\n",
      "600/600 [==============================] - 0s 78us/sample - loss: 3.1510e-04 - accuracy: 1.0000\n",
      "Epoch 91/100\n",
      "600/600 [==============================] - 0s 77us/sample - loss: 3.0757e-04 - accuracy: 1.0000\n",
      "Epoch 92/100\n",
      "600/600 [==============================] - 0s 78us/sample - loss: 3.0041e-04 - accuracy: 1.0000\n",
      "Epoch 93/100\n",
      "600/600 [==============================] - 0s 78us/sample - loss: 2.9324e-04 - accuracy: 1.0000\n",
      "Epoch 94/100\n",
      "600/600 [==============================] - 0s 73us/sample - loss: 2.8590e-04 - accuracy: 1.0000\n",
      "Epoch 95/100\n",
      "600/600 [==============================] - 0s 79us/sample - loss: 2.7916e-04 - accuracy: 1.0000\n",
      "Epoch 96/100\n",
      "600/600 [==============================] - 0s 77us/sample - loss: 2.7271e-04 - accuracy: 1.0000\n",
      "Epoch 97/100\n",
      "600/600 [==============================] - 0s 76us/sample - loss: 2.6623e-04 - accuracy: 1.0000\n",
      "Epoch 98/100\n",
      "600/600 [==============================] - 0s 75us/sample - loss: 2.6006e-04 - accuracy: 1.0000\n",
      "Epoch 99/100\n",
      "600/600 [==============================] - 0s 100us/sample - loss: 2.5411e-04 - accuracy: 1.0000\n",
      "Epoch 100/100\n",
      "600/600 [==============================] - 0s 105us/sample - loss: 2.4834e-04 - accuracy: 1.0000\n"
     ]
    },
    {
     "data": {
      "text/plain": [
       "<tensorflow.python.keras.callbacks.History at 0x7fb278d9b410>"
      ]
     },
     "execution_count": 59,
     "metadata": {},
     "output_type": "execute_result"
    }
   ],
   "source": [
    "model.fit(np.array(x),np.array(y),epochs=100)"
   ]
  },
  {
   "cell_type": "code",
   "execution_count": 56,
   "id": "596abbf6",
   "metadata": {},
   "outputs": [],
   "source": [
    "ypred = np.round(model.predict(x))"
   ]
  },
  {
   "cell_type": "code",
   "execution_count": 58,
   "id": "371f5f40",
   "metadata": {},
   "outputs": [
    {
     "data": {
      "text/plain": [
       "array([0., 0., 0., 0., 1., 0., 0., 0., 0., 0., 0., 0., 0., 0., 0.],\n",
       "      dtype=float32)"
      ]
     },
     "execution_count": 58,
     "metadata": {},
     "output_type": "execute_result"
    }
   ],
   "source": [
    "ypred[0]"
   ]
  },
  {
   "cell_type": "code",
   "execution_count": null,
   "id": "956b448e",
   "metadata": {},
   "outputs": [],
   "source": []
  },
  {
   "cell_type": "code",
   "execution_count": null,
   "id": "32bf78bb",
   "metadata": {},
   "outputs": [],
   "source": []
  },
  {
   "cell_type": "code",
   "execution_count": null,
   "id": "6a76c9b1",
   "metadata": {},
   "outputs": [],
   "source": []
  },
  {
   "cell_type": "code",
   "execution_count": null,
   "id": "d3b9bf0c",
   "metadata": {},
   "outputs": [],
   "source": [
    "model.fit(x_train,y_train,epochs=3)"
   ]
  }
 ],
 "metadata": {
  "kernelspec": {
   "display_name": "Python 3 (ipykernel)",
   "language": "python",
   "name": "python3"
  },
  "language_info": {
   "codemirror_mode": {
    "name": "ipython",
    "version": 3
   },
   "file_extension": ".py",
   "mimetype": "text/x-python",
   "name": "python",
   "nbconvert_exporter": "python",
   "pygments_lexer": "ipython3",
   "version": "3.7.11"
  }
 },
 "nbformat": 4,
 "nbformat_minor": 5
}
